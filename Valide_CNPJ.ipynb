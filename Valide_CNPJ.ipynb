{
  "nbformat": 4,
  "nbformat_minor": 0,
  "metadata": {
    "colab": {
      "name": "Valide_CNPJ.ipynb",
      "provenance": [],
      "include_colab_link": true
    },
    "kernelspec": {
      "name": "python3",
      "display_name": "Python 3"
    },
    "language_info": {
      "name": "python"
    }
  },
  "cells": [
    {
      "cell_type": "markdown",
      "metadata": {
        "id": "view-in-github",
        "colab_type": "text"
      },
      "source": [
        "<a href=\"https://colab.research.google.com/github/LuisSilvaS/Projects-Python/blob/main/Valide_CNPJ.ipynb\" target=\"_parent\"><img src=\"https://colab.research.google.com/assets/colab-badge.svg\" alt=\"Open In Colab\"/></a>"
      ]
    },
    {
      "cell_type": "markdown",
      "source": [
        "main.py"
      ],
      "metadata": {
        "id": "bfjyMDqKwRmo"
      }
    },
    {
      "cell_type": "code",
      "source": [
        "from google.colab import drive\n",
        "drive.mount('/content/drive')"
      ],
      "metadata": {
        "id": "PtKOqGrqzmV_"
      },
      "execution_count": null,
      "outputs": []
    },
    {
      "cell_type": "code",
      "execution_count": null,
      "metadata": {
        "id": "vnR16zYhv61u"
      },
      "outputs": [],
      "source": [
        "\"\"\"\n",
        "04.252.011/0001-10 40.688.134/0001-61 71.506.168/0001-11 12.544.992/0001-05\n",
        "\n",
        "0   4   2   5   2   0   1   1   0   0   0   1\n",
        "5   4   3   2   9   8   7   6   5   4   3   2\n",
        "0   16  6   10  18  0   7   6   0   0   0   2 = 65\n",
        "Fórmula -> 11 - (65 % 11) = 1\n",
        "Primeiro digito = 1 (Se o digito for maior que 9, ele se torna 0)\n",
        "\n",
        "0   4   2   5   2   0   1   1   0   0   0   1   1   X\n",
        "6   5   4   3   2   9   8   7   6   5   4   3   2\n",
        "0   20  8   15  4   0   8   7   0   0   0   3   2 = 67\n",
        "Fórmula -> 11 - (67 % 11) = 10 (Como o resultado é maior que 9, então é 0)\n",
        "Segundo digito = 0\n",
        "\n",
        "Novo CNPJ + Digitos = 04.252.011/0001-10\n",
        "CNPJ Original =       04.252.011/0001-10\n",
        "Válido\n",
        "\n",
        "Recap.\n",
        "543298765432 -> Primeiro digito\n",
        "6543298765432 -> Segunro digito\n",
        "\"\"\"\n",
        "import cnpj\n",
        "\n",
        "cnpj1 = '04.252.011/0001-10'\n",
        "\n",
        "if cnpj.valida(cnpj1):\n",
        "    print(f'{cnpj1} é válido')\n",
        "else:\n",
        "    print(f'{cnpj1} é inválido')\n"
      ]
    },
    {
      "cell_type": "markdown",
      "source": [
        "Cnpj.py"
      ],
      "metadata": {
        "id": "BKGfGjHbwXUf"
      }
    },
    {
      "cell_type": "code",
      "source": [
        "import re\n",
        "\n",
        "REGRESSIVOS = [6, 5, 4, 3, 2, 9, 8, 7, 6, 5, 4, 3, 2]\n",
        "\n",
        "\n",
        "def valida(cnpj):\n",
        "    cnpj = apenas_numeros(cnpj)\n",
        "\n",
        "    try:\n",
        "        if eh_sequencia(cnpj):\n",
        "            return False\n",
        "    except:\n",
        "        return False\n",
        "\n",
        "    try:\n",
        "        novo_cnpj = calcula_digito(cnpj=cnpj, digito=1)\n",
        "        novo_cnpj = calcula_digito(cnpj=novo_cnpj, digito=2)\n",
        "    except Exception as e:\n",
        "        return False\n",
        "\n",
        "    if novo_cnpj == cnpj:\n",
        "        return True\n",
        "    else:\n",
        "        return False\n",
        "\n",
        "\n",
        "def calcula_digito(cnpj, digito):\n",
        "    if digito == 1:\n",
        "        regressivos = REGRESSIVOS[1:]\n",
        "        novo_cnpj = cnpj[:-2]\n",
        "    elif digito == 2:\n",
        "        regressivos = REGRESSIVOS\n",
        "        novo_cnpj = cnpj\n",
        "    else:\n",
        "        return None\n",
        "\n",
        "    total = 0\n",
        "    for indice, regressivo in enumerate(regressivos):\n",
        "        total += int(cnpj[indice]) * regressivo\n",
        "\n",
        "    digito = 11 - (total % 11)\n",
        "    digito = digito if digito <= 9 else 0\n",
        "\n",
        "    return f'{novo_cnpj}{digito}'\n",
        "\n",
        "\n",
        "def eh_sequencia(cnpj):\n",
        "    sequencia = cnpj[0] * len(cnpj)\n",
        "\n",
        "    if sequencia == cnpj:\n",
        "        return True\n",
        "    else:\n",
        "        return False\n",
        "\n",
        "\n",
        "def apenas_numeros(cnpj):\n",
        "    return re.sub(r'[^0-9]', '', cnpj)\n"
      ],
      "metadata": {
        "id": "FqDWCn-owLLk"
      },
      "execution_count": null,
      "outputs": []
    },
    {
      "cell_type": "markdown",
      "source": [
        "Gerador de CNPJ"
      ],
      "metadata": {
        "id": "zTDBVN22xZmN"
      }
    },
    {
      "cell_type": "code",
      "source": [
        "import re\n",
        "import random\n",
        "\n",
        "REGRESSIVOS = [6, 5, 4, 3, 2, 9, 8, 7, 6, 5, 4, 3, 2]\n",
        "\n",
        "\n",
        "def valida(cnpj):\n",
        "    cnpj = apenas_numeros(cnpj)\n",
        "\n",
        "    try:\n",
        "        if eh_sequencia(cnpj):\n",
        "            return False\n",
        "    except:\n",
        "        return False\n",
        "\n",
        "    try:\n",
        "        novo_cnpj = calcula_digito(cnpj=cnpj, digito=1)\n",
        "        novo_cnpj = calcula_digito(cnpj=novo_cnpj, digito=2)\n",
        "    except Exception as e:\n",
        "        return False\n",
        "\n",
        "    if novo_cnpj == cnpj:\n",
        "        return True\n",
        "    else:\n",
        "        return False\n",
        "\n",
        "\n",
        "def calcula_digito(cnpj, digito):\n",
        "    if digito == 1:\n",
        "        regressivos = REGRESSIVOS[1:]\n",
        "        novo_cnpj = cnpj[:-2]\n",
        "    elif digito == 2:\n",
        "        regressivos = REGRESSIVOS\n",
        "        novo_cnpj = cnpj\n",
        "    else:\n",
        "        return None\n",
        "\n",
        "    total = 0\n",
        "    for indice, regressivo in enumerate(regressivos):\n",
        "        total += int(cnpj[indice]) * regressivo\n",
        "\n",
        "    digito = 11 - (total % 11)\n",
        "    digito = digito if digito <= 9 else 0\n",
        "\n",
        "    return f'{novo_cnpj}{digito}'\n",
        "\n",
        "\n",
        "def eh_sequencia(cnpj):\n",
        "    sequencia = cnpj[0] * len(cnpj)\n",
        "\n",
        "    if sequencia == cnpj:\n",
        "        return True\n",
        "    else:\n",
        "        return False\n",
        "\n",
        "\n",
        "def apenas_numeros(cnpj):\n",
        "    return re.sub(r'[^0-9]', '', cnpj)\n",
        "\n",
        "\n",
        "def gera():\n",
        "    primeiro_digito = random.randint(0, 9)\n",
        "    segundo_digito = random.randint(0, 9)\n",
        "    segundo_bloco = random.randint(100, 999)\n",
        "    terceiro_bloco = random.randint(100, 999)\n",
        "    quarto_bloco = '0001'\n",
        "\n",
        "    inicio_cnpj = f'{primeiro_digito}{segundo_digito}{segundo_bloco}' \\\n",
        "        f'{terceiro_bloco}{quarto_bloco}00'\n",
        "\n",
        "    novo_cnpj = calcula_digito(cnpj=inicio_cnpj, digito=1)\n",
        "    novo_cnpj = calcula_digito(cnpj=novo_cnpj, digito=2)\n",
        "\n",
        "    return novo_cnpj\n",
        "\n",
        "\n",
        "def formata(cnpj):\n",
        "    cnpj = apenas_numeros(cnpj)\n",
        "    formatado = f'{cnpj[:2]}.{cnpj[2:5]}.{cnpj[5:8]}/{cnpj[8:12]}-{cnpj[12:14]}'\n",
        "    return formatado"
      ],
      "metadata": {
        "id": "rcktaTp4xc8h"
      },
      "execution_count": null,
      "outputs": []
    },
    {
      "cell_type": "markdown",
      "source": [
        "main"
      ],
      "metadata": {
        "id": "Rfln1_sUyXkj"
      }
    },
    {
      "cell_type": "code",
      "source": [
        "import cnpj\n",
        "\n",
        "cnpj1 = '04.252.011/0001-10'\n",
        "\n",
        "if cnpj.valida(cnpj1):\n",
        "    print(f'{cnpj1} é válido')\n",
        "else:\n",
        "    print(f'{cnpj1} é inválido')\n",
        "\n",
        "for i in range(100):\n",
        "    novo_cnpj = cnpj.gera()\n",
        "    formatado = cnpj.formata(novo_cnpj)\n",
        "    print(formatado)\n"
      ],
      "metadata": {
        "id": "hHjVFYIByZEV"
      },
      "execution_count": null,
      "outputs": []
    }
  ]
}